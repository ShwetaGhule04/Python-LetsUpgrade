{
 "cells": [
  {
   "cell_type": "markdown",
   "metadata": {},
   "source": [
    "1. Sum of n number using while loop"
   ]
  },
  {
   "cell_type": "code",
   "execution_count": 10,
   "metadata": {},
   "outputs": [
    {
     "name": "stdout",
     "output_type": "stream",
     "text": [
      "The sum of the number is 15\n"
     ]
    }
   ],
   "source": [
    "Num=5\n",
    "if Num < 0:\n",
    "    print(\"Enter the digital greater than Zero\")\n",
    "else:\n",
    "    Sum=0\n",
    "    while (Num > 0):\n",
    "        Sum=Sum+Num\n",
    "        Num=Num-1\n",
    "    print(\"The sum of the number is\",Sum)"
   ]
  },
  {
   "cell_type": "markdown",
   "metadata": {},
   "source": [
    "2. Prime number or not"
   ]
  },
  {
   "cell_type": "code",
   "execution_count": 17,
   "metadata": {},
   "outputs": [
    {
     "name": "stdout",
     "output_type": "stream",
     "text": [
      "Number is not prime 10\n"
     ]
    }
   ],
   "source": [
    "num=10\n",
    "i=1\n",
    "if num>1:\n",
    "    if num%i ==0:\n",
    "        print(\"Number is not prime\",num)\n",
    "    else:\n",
    "        print(\"Number is prime\",num)\n",
    "else: \n",
    "    print(\"Number is not prime\",num)"
   ]
  },
  {
   "cell_type": "code",
   "execution_count": null,
   "metadata": {},
   "outputs": [],
   "source": []
  }
 ],
 "metadata": {
  "kernelspec": {
   "display_name": "Python 3",
   "language": "python",
   "name": "python3"
  },
  "language_info": {
   "codemirror_mode": {
    "name": "ipython",
    "version": 3
   },
   "file_extension": ".py",
   "mimetype": "text/x-python",
   "name": "python",
   "nbconvert_exporter": "python",
   "pygments_lexer": "ipython3",
   "version": "3.7.6"
  }
 },
 "nbformat": 4,
 "nbformat_minor": 4
}
